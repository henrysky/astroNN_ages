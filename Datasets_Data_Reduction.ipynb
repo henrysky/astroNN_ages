{
 "cells": [
  {
   "attachments": {},
   "cell_type": "markdown",
   "metadata": {},
   "source": [
    "# Datasets and Data reduction \n",
    "\n",
    "Stuffs for data reduction and datasets preprocessing"
   ]
  },
  {
   "attachments": {},
   "cell_type": "markdown",
   "metadata": {},
   "source": [
    "## Compile APOKACS-2\n",
    "\n",
    "The `.txt` can be downloaded here: https://iopscience.iop.org/article/10.3847/1538-4365/aaebfd#apjsaaebfdt5"
   ]
  },
  {
   "cell_type": "code",
   "execution_count": 2,
   "metadata": {},
   "outputs": [
    {
     "data": {
      "text/html": [
       "<div><i>Table length=6355</i>\n",
       "<table id=\"table2602065198528\" class=\"table-striped table-bordered table-condensed\">\n",
       "<thead><tr><th>KIC</th><th>2MASS</th><th>Teff</th><th>e_Teff</th><th>FeH</th><th>e_FeH</th><th>AFe</th><th>e_AFe</th><th>Nmax</th><th>e_Nmax</th><th>Dnu</th><th>e_Dnu</th><th>ES</th><th>Fdnu</th><th>e_Fdnu</th><th>M(cor)</th><th>e_M(cor)-ran</th><th>e_M(cor)-sys</th><th>R(cor)</th><th>e_R(cor)-ran</th><th>e_R(cor)-sys</th><th>logg(seis)</th><th>e_logg(seis)-ran</th><th>e_logg(seis)-sys</th><th>Rho</th><th>e_Rho-ran</th><th>e_Rho-sys</th><th>LogAge</th><th>E_LogAge</th><th>e_LogAge</th><th>Av</th><th>e_Av</th><th>Notes</th></tr></thead>\n",
       "<thead><tr><th></th><th></th><th>K</th><th>K</th><th>dex(---)</th><th>dex(---)</th><th>dex(---)</th><th>dex(---)</th><th>uHz</th><th></th><th>uHz</th><th></th><th></th><th></th><th></th><th>Msun</th><th></th><th></th><th>Rsun</th><th></th><th></th><th>dex(cm / s2)</th><th></th><th></th><th>g / cm3</th><th></th><th></th><th>Myr</th><th>Myr</th><th>Myr</th><th>mag</th><th>mag</th><th></th></tr></thead>\n",
       "<thead><tr><th>int32</th><th>str18</th><th>float64</th><th>float64</th><th>float64</th><th>float64</th><th>float64</th><th>float64</th><th>float64</th><th>float64</th><th>float64</th><th>float64</th><th>str8</th><th>float64</th><th>float64</th><th>float64</th><th>float64</th><th>float64</th><th>float64</th><th>float64</th><th>float64</th><th>float64</th><th>float64</th><th>float64</th><th>float64</th><th>float64</th><th>float64</th><th>float64</th><th>float64</th><th>float64</th><th>float64</th><th>float64</th><th>str18</th></tr></thead>\n",
       "<tr><td>1027337</td><td>2M19252021+3647118</td><td>4636.0</td><td>67.3</td><td>0.275</td><td>0.024</td><td>0.023</td><td>0.01</td><td>73.975</td><td>0.009</td><td>6.991</td><td>0.013</td><td>RGB</td><td>1.0333</td><td>0.0003</td><td>1.227</td><td>0.063</td><td>0.038</td><td>7.544</td><td>0.029</td><td>0.014</td><td>2.772</td><td>0.005</td><td>0.007</td><td>0.004029</td><td>0.026</td><td>0.007</td><td>3.798</td><td>0.099</td><td>-0.09</td><td>0.214</td><td>0.071</td><td>...</td></tr>\n",
       "<tr><td>1160789</td><td>2M19233280+3652207</td><td>4729.6</td><td>72.3</td><td>-0.257</td><td>0.034</td><td>0.188</td><td>0.015</td><td>25.209</td><td>0.015</td><td>3.545</td><td>0.011</td><td>RC</td><td>0.9965</td><td>0.0324</td><td>0.875</td><td>0.147</td><td>0.082</td><td>10.86</td><td>0.071</td><td>0.025</td><td>2.308</td><td>0.007</td><td>0.01</td><td>0.0009635</td><td>0.069</td><td>0.008</td><td>3.889</td><td>0.133</td><td>-0.146</td><td>0.009</td><td>0.074</td><td>...</td></tr>\n",
       "<tr><td>1161447</td><td>2M19241746+3651460</td><td>4776.1</td><td>86.2</td><td>0.058</td><td>0.029</td><td>-0.006</td><td>0.013</td><td>37.066</td><td>0.027</td><td>4.153</td><td>0.011</td><td>RC</td><td>1.003</td><td>0.0238</td><td>1.46</td><td>0.135</td><td>0.076</td><td>11.54</td><td>0.059</td><td>0.022</td><td>2.478</td><td>0.012</td><td>0.01</td><td>0.00134</td><td>0.052</td><td>0.008</td><td>3.396</td><td>0.166</td><td>-0.145</td><td>0.4</td><td>0.086</td><td>...</td></tr>\n",
       "<tr><td>1161618</td><td>2M19242614+3648478</td><td>4742.0</td><td>72.1</td><td>0.064</td><td>0.029</td><td>0.005</td><td>0.012</td><td>33.926</td><td>0.01</td><td>4.093</td><td>0.012</td><td>RC</td><td>1.001</td><td>0.0033</td><td>1.183</td><td>0.063</td><td>0.077</td><td>10.879</td><td>0.028</td><td>0.023</td><td>2.438</td><td>0.005</td><td>0.01</td><td>0.001296</td><td>0.026</td><td>0.008</td><td>3.639</td><td>0.064</td><td>-0.069</td><td>0.199</td><td>0.074</td><td>...</td></tr>\n",
       "<tr><td>1162220</td><td>2M19245791+3653298</td><td>4190.1</td><td>51.7</td><td>0.083</td><td>0.021</td><td>0.07</td><td>0.011</td><td>11.0</td><td>0.01</td><td>1.669</td><td>0.011</td><td>RGB</td><td>1.0484</td><td>0.0004</td><td>1.007</td><td>0.055</td><td>0.044</td><td>18.175</td><td>0.024</td><td>0.017</td><td>1.922</td><td>0.005</td><td>0.007</td><td>0.0002364</td><td>0.021</td><td>0.008</td><td>4.056</td><td>0.087</td><td>-0.083</td><td>0.181</td><td>0.073</td><td>...</td></tr>\n",
       "<tr><td>1162746</td><td>2M19252639+3649116</td><td>4798.1</td><td>75.6</td><td>-0.388</td><td>0.038</td><td>0.229</td><td>0.017</td><td>27.798</td><td>0.015</td><td>3.763</td><td>0.01</td><td>RC</td><td>0.9972</td><td>0.0281</td><td>0.941</td><td>0.131</td><td>0.08</td><td>10.688</td><td>0.062</td><td>0.024</td><td>2.354</td><td>0.007</td><td>0.01</td><td>0.001087</td><td>0.06</td><td>0.008</td><td>3.786</td><td>0.139</td><td>-0.131</td><td>0.172</td><td>0.075</td><td>...</td></tr>\n",
       "<tr><td>1163114</td><td>2M19254564+3650475</td><td>4285.8</td><td>54.4</td><td>0.297</td><td>0.02</td><td>0.025</td><td>0.01</td><td>14.356</td><td>0.011</td><td>1.887</td><td>0.008</td><td>RGB</td><td>1.0396</td><td>0.0004</td><td>1.467</td><td>0.05</td><td>0.043</td><td>19.097</td><td>0.021</td><td>0.016</td><td>2.042</td><td>0.006</td><td>0.007</td><td>0.0002971</td><td>0.016</td><td>0.008</td><td>3.538</td><td>0.079</td><td>-0.077</td><td>0.382</td><td>0.069</td><td>...</td></tr>\n",
       "<tr><td>1163359</td><td>2M19255838+3650557</td><td>4571.9</td><td>71.0</td><td>-0.339</td><td>0.032</td><td>0.218</td><td>0.017</td><td>21.468</td><td>0.009</td><td>2.632</td><td>0.009</td><td>RGB</td><td>1.0346</td><td>0.0005</td><td>1.454</td><td>0.051</td><td>0.043</td><td>15.297</td><td>0.022</td><td>0.016</td><td>2.231</td><td>0.005</td><td>0.007</td><td>0.0005725</td><td>0.018</td><td>0.008</td><td>3.376</td><td>0.075</td><td>-0.072</td><td>0.195</td><td>0.076</td><td>...</td></tr>\n",
       "<tr><td>1163621</td><td>2M19261297+3648265</td><td>4933.2</td><td>84.7</td><td>0.028</td><td>0.033</td><td>0.005</td><td>0.012</td><td>50.714</td><td>0.009</td><td>5.004</td><td>0.004</td><td>RC</td><td>1.0012</td><td>0.0331</td><td>1.876</td><td>0.138</td><td>0.07</td><td>11.092</td><td>0.068</td><td>0.019</td><td>2.621</td><td>0.005</td><td>0.009</td><td>0.001938</td><td>0.067</td><td>0.008</td><td>3.142</td><td>0.121</td><td>-0.108</td><td>0.422</td><td>0.08</td><td>...</td></tr>\n",
       "<tr><td>...</td><td>...</td><td>...</td><td>...</td><td>...</td><td>...</td><td>...</td><td>...</td><td>...</td><td>...</td><td>...</td><td>...</td><td>...</td><td>...</td><td>...</td><td>...</td><td>...</td><td>...</td><td>...</td><td>...</td><td>...</td><td>...</td><td>...</td><td>...</td><td>...</td><td>...</td><td>...</td><td>...</td><td>...</td><td>...</td><td>...</td><td>...</td><td>...</td></tr>\n",
       "<tr><td>12690461</td><td>2M19184851+5152079</td><td>4749.8</td><td>77.1</td><td>-0.24</td><td>0.034</td><td>0.191</td><td>0.015</td><td>28.244</td><td>0.03</td><td>3.888</td><td>0.018</td><td>RC</td><td>0.9935</td><td>0.013</td><td>0.867</td><td>0.13</td><td>0.08</td><td>10.199</td><td>0.055</td><td>0.024</td><td>2.359</td><td>0.013</td><td>0.01</td><td>0.001152</td><td>0.045</td><td>0.008</td><td>3.894</td><td>0.121</td><td>-0.122</td><td>0.16</td><td>0.079</td><td>...</td></tr>\n",
       "<tr><td>12735106</td><td>2M19172948+5156326</td><td>4648.1</td><td>67.9</td><td>0.193</td><td>0.026</td><td>0.02</td><td>0.01</td><td>33.407</td><td>0.018</td><td>4.049</td><td>0.016</td><td>RC</td><td>1.0033</td><td>0.0073</td><td>1.135</td><td>0.09</td><td>0.078</td><td>10.79</td><td>0.04</td><td>0.023</td><td>2.427</td><td>0.008</td><td>0.01</td><td>0.001274</td><td>0.035</td><td>0.008</td><td>3.711</td><td>0.096</td><td>-0.088</td><td>0.202</td><td>0.073</td><td>...</td></tr>\n",
       "<tr><td>12735291</td><td>2M19175256+5154430</td><td>4718.4</td><td>82.0</td><td>-0.088</td><td>0.03</td><td>0.106</td><td>0.014</td><td>30.239</td><td>0.009</td><td>3.996</td><td>0.012</td><td>RC</td><td>0.9992</td><td>0.0092</td><td>0.922</td><td>0.07</td><td>0.079</td><td>10.186</td><td>0.032</td><td>0.024</td><td>2.387</td><td>0.006</td><td>0.01</td><td>0.001231</td><td>0.03</td><td>0.008</td><td>3.869</td><td>0.068</td><td>-0.07</td><td>0.152</td><td>0.084</td><td>...</td></tr>\n",
       "<tr><td>12735851</td><td>2M19192010+5158343</td><td>4706.3</td><td>71.7</td><td>-0.25</td><td>0.034</td><td>0.065</td><td>0.015</td><td>42.809</td><td>0.009</td><td>4.775</td><td>0.006</td><td>RGB</td><td>1.0371</td><td>0.001</td><td>1.101</td><td>0.043</td><td>0.041</td><td>9.36</td><td>0.017</td><td>0.015</td><td>2.537</td><td>0.005</td><td>0.007</td><td>0.001893</td><td>0.012</td><td>0.007</td><td>3.805</td><td>0.069</td><td>-0.065</td><td>0.165</td><td>0.073</td><td>...</td></tr>\n",
       "<tr><td>12736410</td><td>2M19203116+5156352</td><td>4800.7</td><td>75.0</td><td>-0.042</td><td>0.032</td><td>0.044</td><td>0.013</td><td>32.015</td><td>0.012</td><td>3.956</td><td>0.017</td><td>RC</td><td>0.9963</td><td>0.0225</td><td>1.183</td><td>0.12</td><td>0.078</td><td>11.163</td><td>0.058</td><td>0.023</td><td>2.415</td><td>0.006</td><td>0.01</td><td>0.001199</td><td>0.056</td><td>0.008</td><td>3.616</td><td>0.133</td><td>-0.128</td><td>0.241</td><td>0.076</td><td>...</td></tr>\n",
       "<tr><td>12784948</td><td>2M19210624+5200236</td><td>4956.6</td><td>83.2</td><td>-0.381</td><td>0.042</td><td>0.092</td><td>0.016</td><td>34.03</td><td>0.009</td><td>4.17</td><td>0.015</td><td>RC</td><td>0.9867</td><td>0.0219</td><td>1.254</td><td>0.114</td><td>0.077</td><td>11.061</td><td>0.055</td><td>0.023</td><td>2.449</td><td>0.005</td><td>0.01</td><td>0.001307</td><td>0.054</td><td>0.008</td><td>3.476</td><td>0.143</td><td>-0.127</td><td>0.217</td><td>0.079</td><td>...</td></tr>\n",
       "<tr><td>12785083</td><td>2M19212376+5204593</td><td>4689.1</td><td>70.0</td><td>-0.001</td><td>0.029</td><td>0.083</td><td>0.012</td><td>28.558</td><td>0.019</td><td>3.618</td><td>0.016</td><td>RC</td><td>0.9973</td><td>0.0399</td><td>1.154</td><td>0.183</td><td>0.08</td><td>11.742</td><td>0.088</td><td>0.024</td><td>2.361</td><td>0.009</td><td>0.01</td><td>0.001005</td><td>0.086</td><td>0.008</td><td>3.645</td><td>0.207</td><td>-0.192</td><td>0.17</td><td>0.074</td><td>...</td></tr>\n",
       "<tr><td>12785250</td><td>2M19214766+5205365</td><td>4764.1</td><td>85.4</td><td>-0.312</td><td>0.035</td><td>0.031</td><td>0.017</td><td>32.908</td><td>0.015</td><td>3.85</td><td>0.004</td><td>RC(S)</td><td>1.0015</td><td>0.0216</td><td>1.386</td><td>0.102</td><td>0.078</td><td>11.942</td><td>0.047</td><td>0.023</td><td>2.426</td><td>0.008</td><td>0.01</td><td>0.001148</td><td>0.044</td><td>0.008</td><td>3.368</td><td>0.128</td><td>-0.113</td><td>0.272</td><td>0.085</td><td>...</td></tr>\n",
       "<tr><td>12884116</td><td>2M19182431+5215519</td><td>4642.0</td><td>68.0</td><td>0.008</td><td>0.028</td><td>0.047</td><td>0.012</td><td>50.54</td><td>0.009</td><td>5.402</td><td>0.004</td><td>RGB</td><td>1.0378</td><td>0.001</td><td>1.081</td><td>0.039</td><td>0.04</td><td>8.563</td><td>0.014</td><td>0.015</td><td>2.606</td><td>0.005</td><td>0.007</td><td>0.002427</td><td>0.008</td><td>0.007</td><td>3.935</td><td>0.066</td><td>-0.064</td><td>0.303</td><td>0.071</td><td>...</td></tr>\n",
       "<tr><td>12884930</td><td>2M19200187+5214588</td><td>4913.6</td><td>89.4</td><td>-0.079</td><td>0.034</td><td>0.011</td><td>0.014</td><td>37.999</td><td>0.009</td><td>4.385</td><td>0.015</td><td>RC</td><td>0.9988</td><td>0.0114</td><td>1.343</td><td>0.086</td><td>0.075</td><td>10.854</td><td>0.041</td><td>0.022</td><td>2.495</td><td>0.006</td><td>0.01</td><td>0.001481</td><td>0.038</td><td>0.008</td><td>3.469</td><td>0.097</td><td>-0.103</td><td>0.315</td><td>0.086</td><td>...</td></tr>\n",
       "</table></div>"
      ],
      "text/plain": [
       "<Table length=6355>\n",
       "  KIC          2MASS          Teff   e_Teff ... e_LogAge    Av     e_Av  Notes\n",
       "                               K       K    ...   Myr      mag     mag        \n",
       " int32         str18        float64 float64 ... float64  float64 float64 str18\n",
       "-------- ------------------ ------- ------- ... -------- ------- ------- -----\n",
       " 1027337 2M19252021+3647118  4636.0    67.3 ...    -0.09   0.214   0.071   ...\n",
       " 1160789 2M19233280+3652207  4729.6    72.3 ...   -0.146   0.009   0.074   ...\n",
       " 1161447 2M19241746+3651460  4776.1    86.2 ...   -0.145     0.4   0.086   ...\n",
       " 1161618 2M19242614+3648478  4742.0    72.1 ...   -0.069   0.199   0.074   ...\n",
       " 1162220 2M19245791+3653298  4190.1    51.7 ...   -0.083   0.181   0.073   ...\n",
       " 1162746 2M19252639+3649116  4798.1    75.6 ...   -0.131   0.172   0.075   ...\n",
       " 1163114 2M19254564+3650475  4285.8    54.4 ...   -0.077   0.382   0.069   ...\n",
       " 1163359 2M19255838+3650557  4571.9    71.0 ...   -0.072   0.195   0.076   ...\n",
       " 1163621 2M19261297+3648265  4933.2    84.7 ...   -0.108   0.422    0.08   ...\n",
       "     ...                ...     ...     ... ...      ...     ...     ...   ...\n",
       "12690461 2M19184851+5152079  4749.8    77.1 ...   -0.122    0.16   0.079   ...\n",
       "12735106 2M19172948+5156326  4648.1    67.9 ...   -0.088   0.202   0.073   ...\n",
       "12735291 2M19175256+5154430  4718.4    82.0 ...    -0.07   0.152   0.084   ...\n",
       "12735851 2M19192010+5158343  4706.3    71.7 ...   -0.065   0.165   0.073   ...\n",
       "12736410 2M19203116+5156352  4800.7    75.0 ...   -0.128   0.241   0.076   ...\n",
       "12784948 2M19210624+5200236  4956.6    83.2 ...   -0.127   0.217   0.079   ...\n",
       "12785083 2M19212376+5204593  4689.1    70.0 ...   -0.192    0.17   0.074   ...\n",
       "12785250 2M19214766+5205365  4764.1    85.4 ...   -0.113   0.272   0.085   ...\n",
       "12884116 2M19182431+5215519  4642.0    68.0 ...   -0.064   0.303   0.071   ...\n",
       "12884930 2M19200187+5214588  4913.6    89.4 ...   -0.103   0.315   0.086   ..."
      ]
     },
     "execution_count": 2,
     "metadata": {},
     "output_type": "execute_result"
    }
   ],
   "source": [
    "from astropy.io import ascii\n",
    "from py import apokasc2_path\n",
    "\n",
    "apokasc2 = ascii.read(apokasc2_path)\n",
    "apokasc2 = apokasc2[\n",
    "    (~apokasc2[\"Nmax\"].mask)\n",
    "    & (~apokasc2[\"Dnu\"].mask)\n",
    "    & (~apokasc2[\"M(cor)\"].mask)\n",
    "    & (apokasc2[\"E_LogAge\"] < 1)\n",
    "    & (apokasc2[\"E_LogAge\"] > 0)\n",
    "    & [\"SeisUnc\" not in i for i in apokasc2[\"Notes\"]]\n",
    "]\n",
    "apokasc2"
   ]
  },
  {
   "cell_type": "code",
   "execution_count": 3,
   "metadata": {},
   "outputs": [],
   "source": [
    "# Add TIC cross-match to APOKASC-2 and then cross-match to allstar DR17\n",
    "\n",
    "import h5py\n",
    "import numpy as np\n",
    "from astropy.io import fits\n",
    "from astroNN.apogee import allstar\n",
    "from py import apokasc2_h5_path, apokasc2_pipeline_path\n",
    "\n",
    "# cross matching pipeline\n",
    "apokasc2_pipeline = ascii.read(apokasc2_pipeline_path)\n",
    "apokasc2_pipeline = apokasc2_pipeline.filled(-1.)\n",
    "xy, x_ind, y_ind = np.intersect1d(\n",
    "    apokasc2_pipeline[\"KIC\"], apokasc2[\"KIC\"], return_indices=True\n",
    ")\n",
    "apokasc2_pipeline = apokasc2_pipeline[x_ind]\n",
    "\n",
    "# =============== matching to APOGEE DR14 ===============\n",
    "allstar_f = fits.getdata(allstar(dr=14))\n",
    "# cross matching with allstar by APOGEE_ID\n",
    "xy, x_ind, y_ind = np.intersect1d(\n",
    "    apokasc2[\"2MASS\"], allstar_f[\"APOGEE_ID\"], return_indices=True\n",
    ")\n",
    "# make sure x_ind is in ascending order\n",
    "apogeeidx = y_ind[np.argsort(x_ind)]\n",
    "\n",
    "# make sure every entry has one match\n",
    "assert len(x_ind) == len(apokasc2)\n",
    "apokasc2.add_column(apogeeidx, name=\"allstar_dr14_idx\")\n",
    "# =============== matching to APOGEE DR14 ===============\n",
    "\n",
    "# =============== matching to APOGEE DR17 ===============\n",
    "allstar_f = fits.getdata(allstar(dr=17))\n",
    "# cross matching with allstar by APOGEE_ID\n",
    "xy, x_ind, y_ind = np.intersect1d(\n",
    "    apokasc2[\"2MASS\"], allstar_f[\"APOGEE_ID\"], return_indices=True\n",
    ")\n",
    "# make sure x_ind is in ascending order\n",
    "apogeeidx = y_ind[np.argsort(x_ind)]\n",
    "\n",
    "# make sure every entry has one match\n",
    "assert len(x_ind) == len(apokasc2)\n",
    "apokasc2.add_column(apogeeidx, name=\"allstar_dr17_idx\")\n",
    "# =============== matching to APOGEE DR17 ===============\n",
    "\n",
    "# process evolutionary state\n",
    "evostate = apokasc2[\"ES\"].astype(\"S\")\n",
    "evostate_int = np.zeros(len(evostate), dtype=int)\n",
    "for indx, t in enumerate(evostate):\n",
    "    if \"rgb\" in t.lower():\n",
    "        evostate_int[indx] = 1\n",
    "    elif \"rc\" in t.lower() or \"clump\" in t.lower():\n",
    "        evostate_int[indx] = 2\n",
    "    else:\n",
    "        evostate_int[indx] = -1\n",
    "\n",
    "h5f = h5py.File(apokasc2_h5_path, \"w\")\n",
    "h5f.create_dataset(\"KIC\", data=np.array(apokasc2[\"KIC\"]).astype(int))\n",
    "h5f.create_dataset(\"allstar_dr14_idx\", data=apokasc2[\"allstar_dr14_idx\"])\n",
    "h5f.create_dataset(\"allstar_dr17_idx\", data=apokasc2[\"allstar_dr17_idx\"])\n",
    "h5f.create_dataset(\"Numax\", data=apokasc2[\"Nmax\"])\n",
    "h5f.create_dataset(\"Numax_err\", data=apokasc2[\"e_Nmax\"])\n",
    "h5f.create_dataset(\"Deltanu\", data=apokasc2[\"Dnu\"])\n",
    "h5f.create_dataset(\"Deltanu_err\", data=apokasc2[\"e_Dnu\"])\n",
    "h5f.create_dataset(\"Mass\", data=apokasc2[\"M(cor)\"])\n",
    "h5f.create_dataset(\"Mass_err\", data=np.sqrt((apokasc2[\"M(cor)\"]*apokasc2[\"e_M(cor)-ran\"])**2 + (apokasc2[\"M(cor)\"]*apokasc2[\"e_M(cor)-sys\"])**2))\n",
    "h5f.create_dataset(\"R\", data=apokasc2[\"R(cor)\"])\n",
    "h5f.create_dataset(\"R_err\", data=np.sqrt((apokasc2[\"R(cor)\"]*apokasc2[\"e_R(cor)-ran\"])**2 + (apokasc2[\"R(cor)\"]*apokasc2[\"e_R(cor)-sys\"])**2))\n",
    "h5f.create_dataset(\"Age\", data=10**apokasc2[\"LogAge\"] / 1000)\n",
    "h5f.create_dataset(\n",
    "    # have checked this formula consistent with the one used in APOKASC-3\n",
    "    \"Age_err\", data=(10**(apokasc2[\"LogAge\"] + apokasc2[\"E_LogAge\"]) - 10**apokasc2[\"LogAge\"]) / 1000\n",
    ")\n",
    "h5f.create_dataset(\"LogAge\", data=apokasc2[\"LogAge\"]-3)\n",
    "h5f.create_dataset(\n",
    "    # have checked this formula too in Gyr\n",
    "    \"LogAge_err\", data=apokasc2[\"E_LogAge\"]\n",
    ")\n",
    "# -1=unidentified, 1=RGB, 2=RC\n",
    "h5f.create_dataset(\"ES\", data=evostate_int)\n",
    "\n",
    "# ============== individual pipeline ==============\n",
    "h5f.create_dataset(\"Numax_A2Z\", data=apokasc2_pipeline[\"Nmax-A2Z\"])\n",
    "h5f.create_dataset(\"Numax_A2Z_err\", data=apokasc2_pipeline[\"e_Nmax-A2Z\"])\n",
    "h5f.create_dataset(\"Deltanu_A2Z\", data=apokasc2_pipeline[\"Dnu-A2Z\"])\n",
    "h5f.create_dataset(\"Deltanu_A2Z_err\", data=apokasc2_pipeline[\"e_Dnu-A2Z\"])\n",
    "\n",
    "h5f.create_dataset(\"Numax_CAN\", data=apokasc2_pipeline[\"Nmax-CAN\"])\n",
    "h5f.create_dataset(\"Numax_CAN_err\", data=apokasc2_pipeline[\"e_Nmax-CAN\"])\n",
    "h5f.create_dataset(\"Deltanu_CAN\", data=apokasc2_pipeline[\"Dnu-CAN\"])\n",
    "h5f.create_dataset(\"Deltanu_CAN_err\", data=apokasc2_pipeline[\"e_Dnu-CAN\"])\n",
    "\n",
    "h5f.create_dataset(\"Numax_COR\", data=apokasc2_pipeline[\"Nmax-COR\"])\n",
    "h5f.create_dataset(\"Numax_COR_err\", data=apokasc2_pipeline[\"e_Nmax-COR\"])\n",
    "h5f.create_dataset(\"Deltanu_COR\", data=apokasc2_pipeline[\"Dnu-COR\"])\n",
    "h5f.create_dataset(\"Deltanu_COR_err\", data=apokasc2_pipeline[\"e_Dnu-COR\"])\n",
    "\n",
    "h5f.create_dataset(\"Numax_OCT\", data=apokasc2_pipeline[\"Nmax-OCT\"])\n",
    "h5f.create_dataset(\"Numax_OCT_err\", data=apokasc2_pipeline[\"e_Nmax-OCT\"])\n",
    "h5f.create_dataset(\"Deltanu_OCT\", data=apokasc2_pipeline[\"Dnu-OCT\"])\n",
    "h5f.create_dataset(\"Deltanu_OCT_err\", data=apokasc2_pipeline[\"e_Dnu-OCT\"])\n",
    "\n",
    "h5f.create_dataset(\"Numax_SYD\", data=apokasc2_pipeline[\"Nmax-SYD\"])\n",
    "h5f.create_dataset(\"Numax_SYD_err\", data=apokasc2_pipeline[\"e_Nmax-SYD\"])\n",
    "h5f.create_dataset(\"Deltanu_SYD\", data=apokasc2_pipeline[\"Dnu-SYD\"])\n",
    "h5f.create_dataset(\"Deltanu_SYD_err\", data=apokasc2_pipeline[\"e_Dnu-SYD\"])\n",
    "# ============== individual pipeline ==============\n",
    "\n",
    "h5f.close()"
   ]
  },
  {
   "attachments": {},
   "cell_type": "markdown",
   "metadata": {},
   "source": [
    "## Download all lightcurves\n",
    "\n",
    "Please run it as a script as it involves multiprocessing"
   ]
  },
  {
   "cell_type": "code",
   "execution_count": null,
   "metadata": {},
   "outputs": [],
   "source": [
    "!python ./py/download_apokasc_lightcurves.py"
   ]
  },
  {
   "attachments": {},
   "cell_type": "markdown",
   "metadata": {},
   "source": [
    "## Generate Kepler Light Curves for APOKASC\n",
    "\n",
    "Please run it as a script as it involves multiprocessing"
   ]
  },
  {
   "cell_type": "code",
   "execution_count": null,
   "metadata": {},
   "outputs": [],
   "source": [
    "!python ./py/gen_apokasc_lightcurves.py"
   ]
  },
  {
   "attachments": {},
   "cell_type": "markdown",
   "metadata": {},
   "source": [
    "## Generate Kepler Power Spectrum for APOKASC\n",
    "\n",
    "Please run it as a script as it involves multiprocessing"
   ]
  },
  {
   "cell_type": "code",
   "execution_count": null,
   "metadata": {},
   "outputs": [],
   "source": [
    "!python ./py/gen_apokasc_powerspec.py"
   ]
  },
  {
   "attachments": {},
   "cell_type": "markdown",
   "metadata": {},
   "source": [
    "## Compile Yu et al. 2018 "
   ]
  },
  {
   "cell_type": "code",
   "execution_count": null,
   "metadata": {},
   "outputs": [],
   "source": [
    "import numpy as np\n",
    "from astroNN.apogee import allstar\n",
    "from astropy.io import fits, ascii\n",
    "from astropy.table import Table, hstack\n",
    "from astroNN.datasets.xmatch import xmatch\n",
    "\n",
    "# table1.dat and table2.dat from https://cdsarc.cds.unistra.fr/viz-bin/cat/J/ApJS/236/42#/browse\n",
    "yu_etal_2018 = ascii.read(\"./yu_etal_2018/table1.dat\")\n",
    "yu_etal_2018.remove_column(\"KIC\")\n",
    "yu_etal_2018 = hstack([ascii.read(\"./yu_etal_2018/table2.dat\"), yu_etal_2018])\n",
    "\n",
    "# search.csv manually from https://archive.stsci.edu/kepler/kepler_fov/search.php?form=fuf\n",
    "kic_xmatch = ascii.read(\"./yu_etal_2018/search.csv\")[1:]\n",
    "yu_etal_2018.add_columns([kic_xmatch[\"RA (J2000)\"].astype(float), kic_xmatch[\"Dec (J2000)\"].astype(float)], names=[\"RA\", \"DEC\"])\n",
    "\n",
    "f_allstar = fits.getdata(allstar(dr=17))\n",
    "\n",
    "idx1, idx2, sep = xmatch(f_allstar[\"RA\"][1:], f_allstar[\"DEC\"][1:], yu_etal_2018[\"RA\"], yu_etal_2018[\"DEC\"], maxdist=4)\n",
    "yu_etal_2018 = yu_etal_2018[idx2]\n",
    "\n",
    "# remember to pad 1 because we discarded the first row of allstar\n",
    "# indices location of yu 2018 in allstar dr17\n",
    "yu_etal_2018.add_columns([idx1+1], names=[\"allstar_dr17_idx\"])\n",
    "\n",
    "yu_etal_2018.write(\"./data_files/yu_etal_2018_apogeedr17.dat\", format=\"ascii\")"
   ]
  }
 ],
 "metadata": {
  "interpreter": {
   "hash": "d81ec2ce589c0931a702d0eb708b929a5b76b1a739ff31835bdf79dc97074bcc"
  },
  "kernelspec": {
   "display_name": "Python 3.9.12 ('base')",
   "language": "python",
   "name": "python3"
  },
  "language_info": {
   "codemirror_mode": {
    "name": "ipython",
    "version": 3
   },
   "file_extension": ".py",
   "mimetype": "text/x-python",
   "name": "python",
   "nbconvert_exporter": "python",
   "pygments_lexer": "ipython3",
   "version": "3.10.8 | packaged by conda-forge | (main, Nov 22 2022, 08:16:33) [MSC v.1929 64 bit (AMD64)]"
  }
 },
 "nbformat": 4,
 "nbformat_minor": 4
}
